{
 "cells": [
  {
   "cell_type": "code",
   "execution_count": 24,
   "id": "47b2a71b",
   "metadata": {},
   "outputs": [
    {
     "data": {
      "text/plain": [
       "{'bunny', 'cat', 'dog', 'tiger', 'turtle'}"
      ]
     },
     "execution_count": 24,
     "metadata": {},
     "output_type": "execute_result"
    }
   ],
   "source": [
    "# Unions and Intersects\n",
    "set_1 = {'dog','cat','bunny'}\n",
    "set_2 = {'dog','turtle','cat','tiger'}\n",
    "\n",
    "# union example\n",
    "setunion = set_1.union(set_2)\n",
    "setunion"
   ]
  },
  {
   "cell_type": "code",
   "execution_count": null,
   "id": "2485f22e",
   "metadata": {},
   "outputs": [],
   "source": [
    "setintersect = set_1.intersection(set_2)\n",
    "setintersect"
   ]
  },
  {
   "cell_type": "code",
   "execution_count": null,
   "id": "81525f60",
   "metadata": {},
   "outputs": [],
   "source": [
    "# Regular Expressions: pattern matching, pattern replacement, and character splitting\n",
    "# https://docs.python.org/3/howto/regex.html documentation for regex for practice\n",
    "\n",
    "# installing libraries\n",
    "import numpy as np\n",
    "import pandas as pd\n",
    "from sklearn.neighbors import DistanceMetric\n",
    "from math import radians\n",
    "import sys\n",
    "from math import dist\n",
    "from geopy import distance"
   ]
  },
  {
   "cell_type": "code",
   "execution_count": null,
   "id": "c027486f",
   "metadata": {},
   "outputs": [],
   "source": [
    "# reading accident file\n",
    "accidents = pd.read_csv('US_accidents_data_subset_MA_feb28.csv')"
   ]
  },
  {
   "cell_type": "code",
   "execution_count": null,
   "id": "40cb2197",
   "metadata": {},
   "outputs": [],
   "source": [
    "# reading fire department file\n",
    "boston_firedpt = pd.read_csv('Fire_Departments.csv')"
   ]
  },
  {
   "cell_type": "code",
   "execution_count": null,
   "id": "a5a828c1",
   "metadata": {},
   "outputs": [],
   "source": [
    "# creating subsets of data\n",
    "accidents_subset = accidents[['ID', 'Severity', 'Start_Time', 'End_Time', 'Start_Lat', 'Start_Lng', 'Distance(mi)', 'Description', 'Number', 'Street', 'City', 'Zipcode']]\n",
    "firedpt_subset = boston_firedpt[['OBJECTID_1', 'LOCNAME', 'LOCSTNO', 'LOCADDR', 'XCOORD', 'YCOORD']]"
   ]
  },
  {
   "cell_type": "code",
   "execution_count": null,
   "id": "0cf5aab3",
   "metadata": {},
   "outputs": [],
   "source": [
    "# Modify XCOORD and YCOORD as coordinates. You can adapt the following, which adds a decimal after 2 places:\n",
    "firedpt_subset['XCOORD'] = firedpt_subset['XCOORD'].apply(lambda x: x / 10 ** (len((str(x))) - 2))*100\n",
    "firedpt_subset['YCOORD'] = firedpt_subset['YCOORD'].apply(lambda x: x / 10 ** (len((str(x))) - 2))*100"
   ]
  },
  {
   "cell_type": "code",
   "execution_count": null,
   "id": "713d255b",
   "metadata": {},
   "outputs": [],
   "source": [
    "# Extract the coordinates from both dataframes as dictionaries. The following is an example:\n",
    "boston_coordinates = accidents_subset[[\"ID\",\"Start_Lat\",\"Start_Lng\"]]\n",
    "boston_dict = boston_coordinates.set_index('ID').T.to_dict('list')\n",
    "\n",
    "firedept_coordinates = firedpt_subset[['OBJECTID_1','XCOORD','YCOORD']]\n",
    "firedept_dict = firedept_coordinates.set_index('OBJECTID_1').T.to_dict('list')"
   ]
  },
  {
   "cell_type": "code",
   "execution_count": null,
   "id": "dc84c769",
   "metadata": {},
   "outputs": [],
   "source": [
    "firedept_dict"
   ]
  },
  {
   "cell_type": "code",
   "execution_count": null,
   "id": "26a0b963",
   "metadata": {},
   "outputs": [],
   "source": [
    "# Combine the dataframes and add a new column “minimum distance” that calculates the \n",
    "# Euclidean distance between the coordinates. The description of the formula can be found \n",
    "# here: https://docs.python.org/3/library/math.html You can adapt the following loop:\n",
    "for [x,y] in boston_dict.values():\n",
    "    min_distance=sys.maxsize\n",
    "    for [p,q] in firedept_dict.values():\n",
    "        res = dist([x,y], [p,q])\n",
    "        if res < min_distance:\n",
    "            min_distance = res\n",
    "            key1 = {i for i in firedept_dict if firedept_dict[i]==[p,q]}\n",
    "            firedpt_subset[\"XCOORD\"] = p\n",
    "            firedpt_subset[\"YCOORD\"] = q\n",
    "            firedpt_subset[\"minimum distance\"] = min_distance\n",
    "    key2 = {i for i in boston_dict if boston_dict[i]==[x,y]}\n"
   ]
  },
  {
   "cell_type": "code",
   "execution_count": null,
   "id": "d2dcfdaa",
   "metadata": {},
   "outputs": [],
   "source": []
  },
  {
   "cell_type": "code",
   "execution_count": null,
   "id": "a3aae9ed",
   "metadata": {},
   "outputs": [],
   "source": []
  }
 ],
 "metadata": {
  "kernelspec": {
   "display_name": "Python 3 (ipykernel)",
   "language": "python",
   "name": "python3"
  },
  "language_info": {
   "codemirror_mode": {
    "name": "ipython",
    "version": 3
   },
   "file_extension": ".py",
   "mimetype": "text/x-python",
   "name": "python",
   "nbconvert_exporter": "python",
   "pygments_lexer": "ipython3",
   "version": "3.9.7"
  }
 },
 "nbformat": 4,
 "nbformat_minor": 5
}
