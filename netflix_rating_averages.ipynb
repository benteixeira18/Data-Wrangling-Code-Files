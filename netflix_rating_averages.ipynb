{
 "cells": [
  {
   "cell_type": "code",
   "execution_count": 242,
   "id": "bda8e695",
   "metadata": {},
   "outputs": [],
   "source": [
    "# reading libraries\n",
    "import pandas as pd\n",
    "import matplotlib.pyplot as plt\n",
    "\n",
    "# reading in and examining file\n",
    "movies_df = pd.read_csv(\"netflix_movies.csv\")"
   ]
  },
  {
   "cell_type": "code",
   "execution_count": 185,
   "id": "bb470400",
   "metadata": {},
   "outputs": [],
   "source": [
    "# create tables of movies by genre; action, comedy, drama, thriller\n",
    "action_movies = movies_df[movies_df['Genre']=='Action']\n",
    "comedy_movies = movies_df[movies_df['Genre']=='Comedy']\n",
    "drama_movies = movies_df[movies_df['Genre']=='Drama']\n",
    "thriller_movies = movies_df[movies_df['Genre']=='Thriller']"
   ]
  },
  {
   "cell_type": "code",
   "execution_count": 198,
   "id": "c5914a99",
   "metadata": {},
   "outputs": [],
   "source": [
    "# create tables of ratings for genres for counting total ratings per genre\n",
    "action_movies_ratings = action_movies[['IMDB Score','Tomatometer','Audience Score'\n",
    "                                      ,'Metacritic Metascore','Metacritic User Score']]\n",
    "comedy_movies_ratings = comedy_movies[['IMDB Score','Tomatometer','Audience Score'\n",
    "                                      ,'Metacritic Metascore','Metacritic User Score']]\n",
    "drama_movies_ratings = drama_movies[['IMDB Score','Tomatometer','Audience Score'\n",
    "                                      ,'Metacritic Metascore','Metacritic User Score']]\n",
    "thriller_movies_ratings = thriller_movies[['IMDB Score','Tomatometer','Audience Score'\n",
    "                                      ,'Metacritic Metascore','Metacritic User Score']]"
   ]
  },
  {
   "cell_type": "code",
   "execution_count": 187,
   "id": "6ff0620a",
   "metadata": {
    "scrolled": true
   },
   "outputs": [],
   "source": [
    "# calculating sums and averages of ratings by genre -- 1: Action\n",
    "# create singular columns for each of the ratings to filter out NaN values\n",
    "action_imdb = action_movies['IMDB Score']\n",
    "action_tomatometer = action_movies['Tomatometer']\n",
    "action_audience = action_movies['Audience Score']\n",
    "action_metascore = action_movies['Metacritic Metascore']\n",
    "action_userscore = action_movies['Metacritic User Score']"
   ]
  },
  {
   "cell_type": "code",
   "execution_count": 188,
   "id": "3032d18a",
   "metadata": {},
   "outputs": [],
   "source": [
    "# calculating sums of each ratings, skipping NaN values\n",
    "sum_action_imdb = round(action_imdb.sum(axis = 0, skipna = True),1)\n",
    "sum_action_tomatometer = round(action_tomatometer.sum(axis = 0, skipna = True),1)\n",
    "sum_action_audience = round(action_audience.sum(axis = 0, skipna = True),1)\n",
    "sum_action_metascore = round(action_metascore.sum(axis = 0, skipna = True),1)\n",
    "sum_action_userscore = round(action_userscore.sum(axis = 0, skipna = True),1)"
   ]
  },
  {
   "cell_type": "code",
   "execution_count": 241,
   "id": "be64dff6",
   "metadata": {},
   "outputs": [],
   "source": [
    "# calculating and reporting sums of all ratings\n",
    "sum_action = sum_action_imdb + sum_action_tomatometer + sum_action_audience + sum_action_metascore + sum_action_userscore"
   ]
  },
  {
   "cell_type": "code",
   "execution_count": 190,
   "id": "49ac6100",
   "metadata": {},
   "outputs": [],
   "source": [
    "# diving by number of non-NaN ratings\n",
    "count_action = sum(action_movies_ratings.count())\n",
    "avg_action = round(sum_action/count_action,2)"
   ]
  },
  {
   "cell_type": "code",
   "execution_count": 195,
   "id": "578a93b0",
   "metadata": {},
   "outputs": [],
   "source": [
    "# repeat process with comedy, drama and thriller -- 2: Comedy\n",
    "comedy_imdb = comedy_movies['IMDB Score']\n",
    "comedy_tomatometer = comedy_movies['Tomatometer']\n",
    "comedy_audience = comedy_movies['Audience Score']\n",
    "comedy_metascore = comedy_movies['Metacritic Metascore']\n",
    "comedy_userscore = comedy_movies['Metacritic User Score']\n",
    "\n",
    "sum_comedy_imdb = round(comedy_imdb.sum(axis = 0, skipna = True),1)\n",
    "sum_comedy_tomatometer = round(comedy_tomatometer.sum(axis = 0, skipna = True),1)\n",
    "sum_comedy_audience = round(comedy_audience.sum(axis = 0, skipna = True),1)\n",
    "sum_comedy_metascore = round(comedy_metascore.sum(axis = 0, skipna = True),1)\n",
    "sum_comedy_userscore = round(comedy_userscore.sum(axis = 0, skipna = True),1)\n",
    "\n",
    "sum_comedy = sum_comedy_imdb + sum_comedy_tomatometer + sum_comedy_audience + sum_comedy_metascore + sum_comedy_userscore\n",
    "count_comedy = sum(comedy_movies_ratings.count())\n",
    "avg_comedy = round(sum_comedy/count_comedy,2)"
   ]
  },
  {
   "cell_type": "code",
   "execution_count": 199,
   "id": "e0385067",
   "metadata": {},
   "outputs": [],
   "source": [
    "# 3: Drama\n",
    "drama_imdb = drama_movies['IMDB Score']\n",
    "drama_tomatometer = drama_movies['Tomatometer']\n",
    "drama_audience = drama_movies['Audience Score']\n",
    "drama_metascore = drama_movies['Metacritic Metascore']\n",
    "drama_userscore = drama_movies['Metacritic User Score']\n",
    "\n",
    "sum_drama_imdb = round(drama_imdb.sum(axis = 0, skipna = True),1)\n",
    "sum_drama_tomatometer = round(drama_tomatometer.sum(axis = 0, skipna = True),1)\n",
    "sum_drama_audience = round(drama_audience.sum(axis = 0, skipna = True),1)\n",
    "sum_drama_metascore = round(drama_metascore.sum(axis = 0, skipna = True),1)\n",
    "sum_drama_userscore = round(drama_userscore.sum(axis = 0, skipna = True),1)\n",
    "\n",
    "sum_drama = sum_drama_imdb + sum_drama_tomatometer + sum_drama_audience + sum_drama_metascore + sum_drama_userscore\n",
    "count_drama = sum(drama_movies_ratings.count())\n",
    "avg_drama = round(sum_drama/count_drama,2)"
   ]
  },
  {
   "cell_type": "code",
   "execution_count": 200,
   "id": "30c1203d",
   "metadata": {},
   "outputs": [],
   "source": [
    "# 4: Thriller\n",
    "thriller_imdb = thriller_movies['IMDB Score']\n",
    "thriller_tomatometer = thriller_movies['Tomatometer']\n",
    "thriller_audience = thriller_movies['Audience Score']\n",
    "thriller_metascore = thriller_movies['Metacritic Metascore']\n",
    "thriller_userscore = thriller_movies['Metacritic User Score']\n",
    "\n",
    "sum_thriller_imdb = round(thriller_imdb.sum(axis = 0, skipna = True),1)\n",
    "sum_thriller_tomatometer = round(thriller_tomatometer.sum(axis = 0, skipna = True),1)\n",
    "sum_thriller_audience = round(thriller_audience.sum(axis = 0, skipna = True),1)\n",
    "sum_thriller_metascore = round(thriller_metascore.sum(axis = 0, skipna = True),1)\n",
    "sum_thriller_userscore = round(thriller_userscore.sum(axis = 0, skipna = True),1)\n",
    "\n",
    "sum_thriller = sum_thriller_imdb + sum_thriller_tomatometer + sum_thriller_audience + sum_thriller_metascore + sum_thriller_userscore\n",
    "count_thriller = sum(thriller_movies_ratings.count())\n",
    "avg_thriller = round(sum_thriller/count_thriller,2)"
   ]
  },
  {
   "cell_type": "code",
   "execution_count": 244,
   "id": "0f04b1bb",
   "metadata": {},
   "outputs": [
    {
     "data": {
      "image/png": "[encoded data removed]",
      "text/plain": [
       "<Figure size 432x288 with 1 Axes>"
      ]
     },
     "metadata": {
      "needs_background": "light"
     },
     "output_type": "display_data"
    }
   ],
   "source": [
    "# creating dictionary of averages and assigning to x/y values for visualization\n",
    "averages = {'Action':avg_action,'Comedy':avg_comedy,\n",
    "            'Drama':avg_drama,'Thriller':avg_thriller}\n",
    "x = list(averages.keys())\n",
    "y = list(averages.values())\n",
    "\n",
    "# visualizing data\n",
    "colors = ['red','orange','forestgreen','royalblue']\n",
    "plt.bar(x, y, color = colors, width = 0.4,edgecolor = 'black')\n",
    "plt.title('Netflix Originals Rating Averages by Genre')\n",
    "plt.xlabel('Genre')\n",
    "plt.ylabel('Rating')\n",
    "plt.savefig('netflix_ratings.png')"
   ]
  },
  {
   "cell_type": "code",
   "execution_count": 245,
   "id": "93f5d28a",
   "metadata": {},
   "outputs": [
    {
     "data": {
      "text/plain": [
       "{'Action': 4.67, 'Comedy': 5.15, 'Drama': 6.59, 'Thriller': 5.32}"
      ]
     },
     "execution_count": 245,
     "metadata": {},
     "output_type": "execute_result"
    }
   ],
   "source": [
    "averages"
   ]
  },
  {
   "cell_type": "code",
   "execution_count": null,
   "id": "e4aedf28",
   "metadata": {},
   "outputs": [],
   "source": []
  }
 ],
 "metadata": {
  "kernelspec": {
   "display_name": "Python 3 (ipykernel)",
   "language": "python",
   "name": "python3"
  },
  "language_info": {
   "codemirror_mode": {
    "name": "ipython",
    "version": 3
   },
   "file_extension": ".py",
   "mimetype": "text/x-python",
   "name": "python",
   "nbconvert_exporter": "python",
   "pygments_lexer": "ipython3",
   "version": "3.9.7"
  }
 },
 "nbformat": 4,
 "nbformat_minor": 5
}
